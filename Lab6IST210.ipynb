{
  "nbformat": 4,
  "nbformat_minor": 0,
  "metadata": {
    "colab": {
      "name": "Lab6IST210",
      "provenance": [],
      "collapsed_sections": [],
      "include_colab_link": true
    },
    "kernelspec": {
      "name": "python3",
      "display_name": "Python 3"
    }
  },
  "cells": [
    {
      "cell_type": "markdown",
      "metadata": {
        "id": "view-in-github",
        "colab_type": "text"
      },
      "source": [
        "<a href=\"https://colab.research.google.com/github/Randy-Alrefaey/DatasetsIST210/blob/main/Lab6IST210.ipynb\" target=\"_parent\"><img src=\"https://colab.research.google.com/assets/colab-badge.svg\" alt=\"Open In Colab\"/></a>"
      ]
    },
    {
      "cell_type": "markdown",
      "metadata": {
        "id": "1ryZ8P-2PmPQ"
      },
      "source": [
        "### Lab 6\n",
        "\n",
        "1.   Insert data from MovieData\n",
        "2.   Review SQL commans\n",
        "\n"
      ]
    },
    {
      "cell_type": "code",
      "metadata": {
        "id": "mVc38iUcQRnY"
      },
      "source": [
        "# to hide output of this cell\n",
        "%%capture\n",
        "\n",
        "!pip install ipython-sql\n",
        "!pip install databases\n",
        "!pip install databases[sqlite]"
      ],
      "execution_count": 3,
      "outputs": []
    },
    {
      "cell_type": "code",
      "metadata": {
        "id": "_FbbpGlwQVhW",
        "colab": {
          "base_uri": "https://localhost:8080/",
          "height": 36
        },
        "outputId": "39f98cee-3fe2-4637-8be0-38e07bff9f29"
      },
      "source": [
        "import sqlalchemy\n",
        "%load_ext sql\n",
        "%sql sqlite:///projectdb.db"
      ],
      "execution_count": 4,
      "outputs": [
        {
          "output_type": "execute_result",
          "data": {
            "application/vnd.google.colaboratory.intrinsic+json": {
              "type": "string"
            },
            "text/plain": [
              "'Connected: @projectdb.db'"
            ]
          },
          "metadata": {
            "tags": []
          },
          "execution_count": 4
        }
      ]
    },
    {
      "cell_type": "code",
      "metadata": {
        "colab": {
          "base_uri": "https://localhost:8080/",
          "height": 619
        },
        "id": "8dyZzyDCT6M8",
        "outputId": "443fb028-0b12-4133-fd17-50258eccaddc"
      },
      "source": [
        "import pandas as pd\n",
        "from sqlalchemy import create_engine\n",
        "\n",
        "engine = create_engine('sqlite:///projectdb.db', echo=True)\n",
        "sqlite_connection = engine.connect()\n",
        "\n",
        "# Read the salaries CSV in our project library\n",
        "# Note: every file that is part of the project folder is linked to the github path\n",
        "salaries_df = pd.read_csv(\"https://github.com/Randy-Alrefaey/DatasetsIST210/blob/main/IMDB5000movies.csv\")\n",
        "salaries_df"
      ],
      "execution_count": 6,
      "outputs": [
        {
          "output_type": "stream",
          "text": [
            "2020-11-25 21:32:06,011 INFO sqlalchemy.engine.base.Engine SELECT CAST('test plain returns' AS VARCHAR(60)) AS anon_1\n",
            "2020-11-25 21:32:06,012 INFO sqlalchemy.engine.base.Engine ()\n",
            "2020-11-25 21:32:06,013 INFO sqlalchemy.engine.base.Engine SELECT CAST('test unicode returns' AS VARCHAR(60)) AS anon_1\n",
            "2020-11-25 21:32:06,015 INFO sqlalchemy.engine.base.Engine ()\n"
          ],
          "name": "stdout"
        },
        {
          "output_type": "error",
          "ename": "ParserError",
          "evalue": "ignored",
          "traceback": [
            "\u001b[0;31m---------------------------------------------------------------------------\u001b[0m",
            "\u001b[0;31mParserError\u001b[0m                               Traceback (most recent call last)",
            "\u001b[0;32m<ipython-input-6-3294ac86e050>\u001b[0m in \u001b[0;36m<module>\u001b[0;34m()\u001b[0m\n\u001b[1;32m      7\u001b[0m \u001b[0;31m# Read the salaries CSV in our project library\u001b[0m\u001b[0;34m\u001b[0m\u001b[0;34m\u001b[0m\u001b[0;34m\u001b[0m\u001b[0m\n\u001b[1;32m      8\u001b[0m \u001b[0;31m# Note: every file that is part of the project folder is linked to the github path\u001b[0m\u001b[0;34m\u001b[0m\u001b[0;34m\u001b[0m\u001b[0;34m\u001b[0m\u001b[0m\n\u001b[0;32m----> 9\u001b[0;31m \u001b[0msalaries_df\u001b[0m \u001b[0;34m=\u001b[0m \u001b[0mpd\u001b[0m\u001b[0;34m.\u001b[0m\u001b[0mread_csv\u001b[0m\u001b[0;34m(\u001b[0m\u001b[0;34m\"https://github.com/Randy-Alrefaey/DatasetsIST210/blob/main/IMDB5000movies.csv\"\u001b[0m\u001b[0;34m)\u001b[0m\u001b[0;34m\u001b[0m\u001b[0;34m\u001b[0m\u001b[0m\n\u001b[0m\u001b[1;32m     10\u001b[0m \u001b[0msalaries_df\u001b[0m\u001b[0;34m\u001b[0m\u001b[0;34m\u001b[0m\u001b[0m\n",
            "\u001b[0;32m/usr/local/lib/python3.6/dist-packages/pandas/io/parsers.py\u001b[0m in \u001b[0;36mread_csv\u001b[0;34m(filepath_or_buffer, sep, delimiter, header, names, index_col, usecols, squeeze, prefix, mangle_dupe_cols, dtype, engine, converters, true_values, false_values, skipinitialspace, skiprows, skipfooter, nrows, na_values, keep_default_na, na_filter, verbose, skip_blank_lines, parse_dates, infer_datetime_format, keep_date_col, date_parser, dayfirst, cache_dates, iterator, chunksize, compression, thousands, decimal, lineterminator, quotechar, quoting, doublequote, escapechar, comment, encoding, dialect, error_bad_lines, warn_bad_lines, delim_whitespace, low_memory, memory_map, float_precision)\u001b[0m\n\u001b[1;32m    686\u001b[0m     )\n\u001b[1;32m    687\u001b[0m \u001b[0;34m\u001b[0m\u001b[0m\n\u001b[0;32m--> 688\u001b[0;31m     \u001b[0;32mreturn\u001b[0m \u001b[0m_read\u001b[0m\u001b[0;34m(\u001b[0m\u001b[0mfilepath_or_buffer\u001b[0m\u001b[0;34m,\u001b[0m \u001b[0mkwds\u001b[0m\u001b[0;34m)\u001b[0m\u001b[0;34m\u001b[0m\u001b[0;34m\u001b[0m\u001b[0m\n\u001b[0m\u001b[1;32m    689\u001b[0m \u001b[0;34m\u001b[0m\u001b[0m\n\u001b[1;32m    690\u001b[0m \u001b[0;34m\u001b[0m\u001b[0m\n",
            "\u001b[0;32m/usr/local/lib/python3.6/dist-packages/pandas/io/parsers.py\u001b[0m in \u001b[0;36m_read\u001b[0;34m(filepath_or_buffer, kwds)\u001b[0m\n\u001b[1;32m    458\u001b[0m \u001b[0;34m\u001b[0m\u001b[0m\n\u001b[1;32m    459\u001b[0m     \u001b[0;32mtry\u001b[0m\u001b[0;34m:\u001b[0m\u001b[0;34m\u001b[0m\u001b[0;34m\u001b[0m\u001b[0m\n\u001b[0;32m--> 460\u001b[0;31m         \u001b[0mdata\u001b[0m \u001b[0;34m=\u001b[0m \u001b[0mparser\u001b[0m\u001b[0;34m.\u001b[0m\u001b[0mread\u001b[0m\u001b[0;34m(\u001b[0m\u001b[0mnrows\u001b[0m\u001b[0;34m)\u001b[0m\u001b[0;34m\u001b[0m\u001b[0;34m\u001b[0m\u001b[0m\n\u001b[0m\u001b[1;32m    461\u001b[0m     \u001b[0;32mfinally\u001b[0m\u001b[0;34m:\u001b[0m\u001b[0;34m\u001b[0m\u001b[0;34m\u001b[0m\u001b[0m\n\u001b[1;32m    462\u001b[0m         \u001b[0mparser\u001b[0m\u001b[0;34m.\u001b[0m\u001b[0mclose\u001b[0m\u001b[0;34m(\u001b[0m\u001b[0;34m)\u001b[0m\u001b[0;34m\u001b[0m\u001b[0;34m\u001b[0m\u001b[0m\n",
            "\u001b[0;32m/usr/local/lib/python3.6/dist-packages/pandas/io/parsers.py\u001b[0m in \u001b[0;36mread\u001b[0;34m(self, nrows)\u001b[0m\n\u001b[1;32m   1196\u001b[0m     \u001b[0;32mdef\u001b[0m \u001b[0mread\u001b[0m\u001b[0;34m(\u001b[0m\u001b[0mself\u001b[0m\u001b[0;34m,\u001b[0m \u001b[0mnrows\u001b[0m\u001b[0;34m=\u001b[0m\u001b[0;32mNone\u001b[0m\u001b[0;34m)\u001b[0m\u001b[0;34m:\u001b[0m\u001b[0;34m\u001b[0m\u001b[0;34m\u001b[0m\u001b[0m\n\u001b[1;32m   1197\u001b[0m         \u001b[0mnrows\u001b[0m \u001b[0;34m=\u001b[0m \u001b[0m_validate_integer\u001b[0m\u001b[0;34m(\u001b[0m\u001b[0;34m\"nrows\"\u001b[0m\u001b[0;34m,\u001b[0m \u001b[0mnrows\u001b[0m\u001b[0;34m)\u001b[0m\u001b[0;34m\u001b[0m\u001b[0;34m\u001b[0m\u001b[0m\n\u001b[0;32m-> 1198\u001b[0;31m         \u001b[0mret\u001b[0m \u001b[0;34m=\u001b[0m \u001b[0mself\u001b[0m\u001b[0;34m.\u001b[0m\u001b[0m_engine\u001b[0m\u001b[0;34m.\u001b[0m\u001b[0mread\u001b[0m\u001b[0;34m(\u001b[0m\u001b[0mnrows\u001b[0m\u001b[0;34m)\u001b[0m\u001b[0;34m\u001b[0m\u001b[0;34m\u001b[0m\u001b[0m\n\u001b[0m\u001b[1;32m   1199\u001b[0m \u001b[0;34m\u001b[0m\u001b[0m\n\u001b[1;32m   1200\u001b[0m         \u001b[0;31m# May alter columns / col_dict\u001b[0m\u001b[0;34m\u001b[0m\u001b[0;34m\u001b[0m\u001b[0;34m\u001b[0m\u001b[0m\n",
            "\u001b[0;32m/usr/local/lib/python3.6/dist-packages/pandas/io/parsers.py\u001b[0m in \u001b[0;36mread\u001b[0;34m(self, nrows)\u001b[0m\n\u001b[1;32m   2155\u001b[0m     \u001b[0;32mdef\u001b[0m \u001b[0mread\u001b[0m\u001b[0;34m(\u001b[0m\u001b[0mself\u001b[0m\u001b[0;34m,\u001b[0m \u001b[0mnrows\u001b[0m\u001b[0;34m=\u001b[0m\u001b[0;32mNone\u001b[0m\u001b[0;34m)\u001b[0m\u001b[0;34m:\u001b[0m\u001b[0;34m\u001b[0m\u001b[0;34m\u001b[0m\u001b[0m\n\u001b[1;32m   2156\u001b[0m         \u001b[0;32mtry\u001b[0m\u001b[0;34m:\u001b[0m\u001b[0;34m\u001b[0m\u001b[0;34m\u001b[0m\u001b[0m\n\u001b[0;32m-> 2157\u001b[0;31m             \u001b[0mdata\u001b[0m \u001b[0;34m=\u001b[0m \u001b[0mself\u001b[0m\u001b[0;34m.\u001b[0m\u001b[0m_reader\u001b[0m\u001b[0;34m.\u001b[0m\u001b[0mread\u001b[0m\u001b[0;34m(\u001b[0m\u001b[0mnrows\u001b[0m\u001b[0;34m)\u001b[0m\u001b[0;34m\u001b[0m\u001b[0;34m\u001b[0m\u001b[0m\n\u001b[0m\u001b[1;32m   2158\u001b[0m         \u001b[0;32mexcept\u001b[0m \u001b[0mStopIteration\u001b[0m\u001b[0;34m:\u001b[0m\u001b[0;34m\u001b[0m\u001b[0;34m\u001b[0m\u001b[0m\n\u001b[1;32m   2159\u001b[0m             \u001b[0;32mif\u001b[0m \u001b[0mself\u001b[0m\u001b[0;34m.\u001b[0m\u001b[0m_first_chunk\u001b[0m\u001b[0;34m:\u001b[0m\u001b[0;34m\u001b[0m\u001b[0;34m\u001b[0m\u001b[0m\n",
            "\u001b[0;32mpandas/_libs/parsers.pyx\u001b[0m in \u001b[0;36mpandas._libs.parsers.TextReader.read\u001b[0;34m()\u001b[0m\n",
            "\u001b[0;32mpandas/_libs/parsers.pyx\u001b[0m in \u001b[0;36mpandas._libs.parsers.TextReader._read_low_memory\u001b[0;34m()\u001b[0m\n",
            "\u001b[0;32mpandas/_libs/parsers.pyx\u001b[0m in \u001b[0;36mpandas._libs.parsers.TextReader._read_rows\u001b[0;34m()\u001b[0m\n",
            "\u001b[0;32mpandas/_libs/parsers.pyx\u001b[0m in \u001b[0;36mpandas._libs.parsers.TextReader._tokenize_rows\u001b[0;34m()\u001b[0m\n",
            "\u001b[0;32mpandas/_libs/parsers.pyx\u001b[0m in \u001b[0;36mpandas._libs.parsers.raise_parser_error\u001b[0;34m()\u001b[0m\n",
            "\u001b[0;31mParserError\u001b[0m: Error tokenizing data. C error: Expected 1 fields in line 71, saw 2\n"
          ]
        }
      ]
    },
    {
      "cell_type": "code",
      "metadata": {
        "id": "C1Ib748QQDKp"
      },
      "source": [
        "%%sql\n",
        "\n",
        "DROP TABLE IF EXISTS [Employee];\n",
        "CREATE TABLE [Employee] (\n",
        "  [id] INTEGER PRIMARY KEY,\n",
        "  [surname] nvarchar(255) NOT NULL,\n",
        "  [firstname] nvarchar(255) NOT NULL,\n",
        "  [age_id] int,\n",
        "  [school_id] int,\n",
        "  FOREIGN KEY ([age_id]) REFERENCES [EmployeeAge] ([id]) ON DELETE SET NULL\n",
        "  FOREIGN KEY ([school_id]) REFERENCES [School] ([id]) ON DELETE SET NULL\n",
        ");\n",
        "\n",
        "DROP TABLE IF EXISTS [Years];\n",
        "CREATE TABLE [Years] (\n",
        "  [id] INTEGER PRIMARY KEY,\n",
        "  [years_within_company] float NOT NULL,\n",
        "  [school_id] nvarchar(255),\n",
        "  FOREIGN KEY ([school_id]) REFERENCES [School] ([id]) ON DELETE SET NULL\n",
        ");\n",
        "\n",
        "DROP TABLE IF EXISTS [Salary];\n",
        "CREATE TABLE [Salary] (\n",
        "  [id] INTEGER PRIMARY KEY,\n",
        "  [salary] float NOT NULL,\n",
        "  [billed_hours_id] int,\n",
        "  FOREIGN KEY ([billed_hours_id]) REFERENCES [BilledHours] ([id]) ON DELETE SET NULL\n",
        ");\n",
        "\n",
        "\n",
        "DROP TABLE IF EXISTS [EmployeePosition];\n",
        "CREATE TABLE [EmployeePosition] (\n",
        "  [id] INTEGER PRIMARY KEY,\n",
        "  [employee_id] int,\n",
        "  [position] nvarchar(250) NOT NULL,\n",
        "  [years_within_company_id] int,\n",
        "  [salary_id] int,\n",
        "  FOREIGN KEY ([years_within_company_id]) REFERENCES [Years] ([id]) ON DELETE SET NULL\n",
        "  FOREIGN KEY ([salary_id]) REFERENCES [Salary] ([id]) ON DELETE SET NULL\n",
        ");\n",
        "\n",
        "\n",
        "DROP TABLE IF EXISTS [BilledHours];\n",
        "CREATE TABLE [BilledHours] (\n",
        "  [id] INTEGER PRIMARY KEY,\n",
        "  [billed_hours] float NOT NULL\n",
        ");\n",
        "\n",
        "\n",
        "DROP TABLE IF EXISTS [School];\n",
        "CREATE TABLE [School] (\n",
        "  [id] INTEGER PRIMARY KEY,\n",
        "  [school_level] nvarchar(255) NOT NULL\n",
        ");\n",
        "\n",
        "DROP TABLE IF EXISTS [EmployeeAge];\n",
        "CREATE TABLE [EmployeeAge] (\n",
        "  [id] INTEGER PRIMARY KEY,\n",
        "  [age] float NOT NULL\n",
        ");"
      ],
      "execution_count": null,
      "outputs": []
    },
    {
      "cell_type": "code",
      "metadata": {
        "id": "xOpCd9MVQFvd",
        "colab": {
          "base_uri": "https://localhost:8080/"
        },
        "outputId": "9b7f5a3d-79f3-424a-f48d-a2ca909e4da5"
      },
      "source": [
        "%%sql\n",
        "\n",
        "PRAGMA foreign_keys;"
      ],
      "execution_count": 1,
      "outputs": [
        {
          "output_type": "stream",
          "text": [
            "UsageError: Cell magic `%%sql` not found.\n"
          ],
          "name": "stderr"
        }
      ]
    },
    {
      "cell_type": "code",
      "metadata": {
        "id": "72m7VT4gQJt0"
      },
      "source": [
        "%%sql\n",
        "\n",
        "PRAGMA foreign_keys = ON;"
      ],
      "execution_count": null,
      "outputs": []
    },
    {
      "cell_type": "code",
      "metadata": {
        "id": "E0ObEQT6QZzH"
      },
      "source": [
        "print('Employee Table')\n",
        "%sql pragma table_info('Employee');"
      ],
      "execution_count": null,
      "outputs": []
    },
    {
      "cell_type": "code",
      "metadata": {
        "id": "WGf-g98JQcWI"
      },
      "source": [
        "print('Years Table')\n",
        "%sql pragma table_info('Years');"
      ],
      "execution_count": null,
      "outputs": []
    },
    {
      "cell_type": "code",
      "metadata": {
        "id": "BEDFbfQkQe7p"
      },
      "source": [
        "print('Salary Table')\n",
        "%sql pragma table_info('Salary');"
      ],
      "execution_count": null,
      "outputs": []
    },
    {
      "cell_type": "code",
      "metadata": {
        "id": "ku_q-pGKQiK8"
      },
      "source": [
        "print('EmployeePosition Table')\n",
        "%sql pragma table_info('EmployeePosition');"
      ],
      "execution_count": null,
      "outputs": []
    },
    {
      "cell_type": "code",
      "metadata": {
        "id": "1YP7JXg5Qlxq"
      },
      "source": [
        "print('BilledHours Table')\n",
        "%sql pragma table_info('BilledHours');"
      ],
      "execution_count": null,
      "outputs": []
    },
    {
      "cell_type": "code",
      "metadata": {
        "id": "tRePEGfwQn_w"
      },
      "source": [
        "print('School Table')\n",
        "%sql pragma table_info('School');"
      ],
      "execution_count": null,
      "outputs": []
    },
    {
      "cell_type": "code",
      "metadata": {
        "id": "SHWAZDRbQqQu"
      },
      "source": [
        "print('EmployeeAge Table')\n",
        "%sql pragma table_info('EmployeeAge');"
      ],
      "execution_count": null,
      "outputs": []
    },
    {
      "cell_type": "code",
      "metadata": {
        "id": "cQe873h1Qtg_"
      },
      "source": [
        "%%sql\n",
        "\n",
        "INSERT INTO BilledHours([billed_hours]) VALUES (50);\n",
        "INSERT INTO BilledHours([billed_hours]) VALUES (40);\n",
        "INSERT INTO BilledHours([billed_hours]) VALUES (40);\n",
        "INSERT INTO BilledHours([billed_hours]) VALUES (40);\n",
        "INSERT INTO BilledHours([billed_hours]) VALUES (40);\n",
        "INSERT INTO BilledHours([billed_hours]) VALUES (20);\n",
        "INSERT INTO BilledHours([billed_hours]) VALUES (30);\n",
        "INSERT INTO BilledHours([billed_hours]) VALUES (40);\n",
        "INSERT INTO BilledHours([billed_hours]) VALUES (40);\n",
        "INSERT INTO BilledHours([billed_hours]) VALUES (40);"
      ],
      "execution_count": null,
      "outputs": []
    },
    {
      "cell_type": "code",
      "metadata": {
        "id": "Y__fV34uQveE"
      },
      "source": [
        "%%sql\n",
        "\n",
        "SELECT *\n",
        "FROM BilledHours;"
      ],
      "execution_count": null,
      "outputs": []
    },
    {
      "cell_type": "code",
      "metadata": {
        "id": "m3F9fECXQ0b5"
      },
      "source": [
        "%%sql\n",
        "\n",
        "INSERT INTO School([school_level]) VALUES ('All');\n",
        "INSERT INTO School([school_level]) VALUES ('Middle School');\n",
        "INSERT INTO School([school_level]) VALUES ('High School');\n",
        "INSERT INTO School([school_level]) VALUES ('High School');\n",
        "INSERT INTO School([school_level]) VALUES ('Elementary School');\n",
        "INSERT INTO School([school_level]) VALUES ('All');\n",
        "INSERT INTO School([school_level]) VALUES ('Middle School');\n",
        "INSERT INTO School([school_level]) VALUES ('High School');\n",
        "INSERT INTO School([school_level]) VALUES ('High School');\n",
        "INSERT INTO School([school_level]) VALUES ('Elementary School');"
      ],
      "execution_count": null,
      "outputs": []
    },
    {
      "cell_type": "code",
      "metadata": {
        "id": "d1jmiLb1Q3Np"
      },
      "source": [
        "%%sql\n",
        "\n",
        "SELECT *\n",
        "FROM School;"
      ],
      "execution_count": null,
      "outputs": []
    },
    {
      "cell_type": "code",
      "metadata": {
        "id": "KkIBdP8UQ6tL"
      },
      "source": [
        "%%sql\n",
        "\n",
        "INSERT INTO EmployeeAge([age]) VALUES (21);\n",
        "INSERT INTO EmployeeAge([age]) VALUES (21);\n",
        "INSERT INTO EmployeeAge([age]) VALUES (21);\n",
        "INSERT INTO EmployeeAge([age]) VALUES (35);\n",
        "INSERT INTO EmployeeAge([age]) VALUES (51);\n",
        "INSERT INTO EmployeeAge([age]) VALUES (47);\n",
        "INSERT INTO EmployeeAge([age]) VALUES (43);\n",
        "INSERT INTO EmployeeAge([age]) VALUES (62);\n",
        "INSERT INTO EmployeeAge([age]) VALUES (50);\n",
        "INSERT INTO EmployeeAge([age]) VALUES (28);"
      ],
      "execution_count": null,
      "outputs": []
    },
    {
      "cell_type": "code",
      "metadata": {
        "id": "fV91OrjLQ9LJ"
      },
      "source": [
        "%%sql\n",
        "\n",
        "SELECT *\n",
        "FROM EmployeeAge;"
      ],
      "execution_count": null,
      "outputs": []
    },
    {
      "cell_type": "code",
      "metadata": {
        "id": "ToTVoIMXRBFM"
      },
      "source": [
        "%%sql\n",
        "\n",
        "INSERT INTO Employee([surname], [firstname], [age_id], [school_id]) VALUES ('Alrefaey', 'Randy', 1, 1);\n",
        "INSERT INTO Employee([surname], [firstname], [age_id], [school_id]) VALUES ('Yankello', 'Amanda', 1, 3);\n",
        "INSERT INTO Employee([surname], [firstname], [age_id], [school_id]) VALUES ('Spina', 'Sean', 1, 4);\n",
        "INSERT INTO Employee([surname], [firstname], [age_id], [school_id]) VALUES ('Raahemifar', 'Kaamran', 3, 4);\n",
        "INSERT INTO Employee([surname], [firstname], [age_id], [school_id]) VALUES ('Smith', 'John', 7, 2);\n",
        "INSERT INTO Employee([surname], [firstname], [age_id], [school_id]) VALUES ('Johnson', 'Dwayne', 5, 1);\n",
        "INSERT INTO Employee([surname], [firstname], [age_id], [school_id]) VALUES ('Wahlberg', 'Mark', 4, 3);\n",
        "INSERT INTO Employee([surname], [firstname], [age_id], [school_id]) VALUES ('Sandler', 'Adam', 8, 4);\n",
        "INSERT INTO Employee([surname], [firstname], [age_id], [school_id]) VALUES ('Lopez', 'Jennifer', 6, 4);\n",
        "INSERT INTO Employee([surname], [firstname], [age_id], [school_id]) VALUES ('Grande', 'Ariana', 2, 2);"
      ],
      "execution_count": null,
      "outputs": []
    },
    {
      "cell_type": "code",
      "metadata": {
        "id": "OLFkeQ5aRCIa"
      },
      "source": [
        "%%sql\n",
        "\n",
        "SELECT *\n",
        "FROM Employee;"
      ],
      "execution_count": null,
      "outputs": []
    },
    {
      "cell_type": "code",
      "metadata": {
        "id": "trOOt1EqREvP"
      },
      "source": [
        "%%sql\n",
        "\n",
        "INSERT INTO Years([years_within_company],[school_id]) VALUES (10, 1);\n",
        "INSERT INTO Years([years_within_company],[school_id]) VALUES (7, 3);\n",
        "INSERT INTO Years([years_within_company],[school_id]) VALUES (2, 4);\n",
        "INSERT INTO Years([years_within_company],[school_id]) VALUES (8, 4);\n",
        "INSERT INTO Years([years_within_company],[school_id]) VALUES (5, 2);\n",
        "INSERT INTO Years([years_within_company],[school_id]) VALUES (12, 1);\n",
        "INSERT INTO Years([years_within_company],[school_id]) VALUES (8, 3);\n",
        "INSERT INTO Years([years_within_company],[school_id]) VALUES (5, 4);\n",
        "INSERT INTO Years([years_within_company],[school_id]) VALUES (2, 4);\n",
        "INSERT INTO Years([years_within_company],[school_id]) VALUES (6, 2);"
      ],
      "execution_count": null,
      "outputs": []
    },
    {
      "cell_type": "code",
      "metadata": {
        "id": "UJDmvEGURHKO"
      },
      "source": [
        "%%sql\n",
        "\n",
        "SELECT *\n",
        "FROM Years;"
      ],
      "execution_count": null,
      "outputs": []
    },
    {
      "cell_type": "code",
      "metadata": {
        "id": "vvem75CDRKKT"
      },
      "source": [
        "%%sql\n",
        "\n",
        "INSERT INTO Salary([salary],[billed_hours_id]) VALUES (30000, 4);\n",
        "INSERT INTO Salary([salary],[billed_hours_id]) VALUES (50000, 3);\n",
        "INSERT INTO Salary([salary],[billed_hours_id]) VALUES (80000, 3);\n",
        "INSERT INTO Salary([salary],[billed_hours_id]) VALUES (85000, 3);\n",
        "INSERT INTO Salary([salary],[billed_hours_id]) VALUES (40000, 3);\n",
        "INSERT INTO Salary([salary],[billed_hours_id]) VALUES (20000, 1);\n",
        "INSERT INTO Salary([salary],[billed_hours_id]) VALUES (35000, 2);\n",
        "INSERT INTO Salary([salary],[billed_hours_id]) VALUES (52000, 3);\n",
        "INSERT INTO Salary([salary],[billed_hours_id]) VALUES (35000, 3);\n",
        "INSERT INTO Salary([salary],[billed_hours_id]) VALUES (80000, 3);"
      ],
      "execution_count": null,
      "outputs": []
    },
    {
      "cell_type": "code",
      "metadata": {
        "id": "Fgc573BCROIK"
      },
      "source": [
        "%%sql\n",
        "\n",
        "SELECT *\n",
        "FROM Salary;"
      ],
      "execution_count": null,
      "outputs": []
    },
    {
      "cell_type": "code",
      "metadata": {
        "id": "9sk8stYlRO8g"
      },
      "source": [
        "%%sql\n",
        "\n",
        "INSERT INTO EmployeePosition([employee_id], [position], [years_within_company_id], [salary_id]) VALUES (1, 'Janitor', 6, 2);\n",
        "INSERT INTO EmployeePosition([employee_id], [position], [years_within_company_id], [salary_id]) VALUES (2, 'Nurse', 4, 5);\n",
        "INSERT INTO EmployeePosition([employee_id], [position], [years_within_company_id], [salary_id]) VALUES (3, 'Principal', 1, 7);\n",
        "INSERT INTO EmployeePosition([employee_id], [position], [years_within_company_id], [salary_id]) VALUES (4, 'Vice Principal', 5, 8);\n",
        "INSERT INTO EmployeePosition([employee_id], [position], [years_within_company_id], [salary_id]) VALUES (5, 'English Teacher', 2, 4);\n",
        "INSERT INTO EmployeePosition([employee_id], [position], [years_within_company_id], [salary_id]) VALUES (6, 'Lunch Guy', 7, 1);\n",
        "INSERT INTO EmployeePosition([employee_id], [position], [years_within_company_id], [salary_id]) VALUES (7, 'Gym', 5, 3);\n",
        "INSERT INTO EmployeePosition([employee_id], [position], [years_within_company_id], [salary_id]) VALUES (8, 'History Teacher', 2, 6);\n",
        "INSERT INTO EmployeePosition([employee_id], [position], [years_within_company_id], [salary_id]) VALUES (9, 'Secretary', 1, 3);\n",
        "INSERT INTO EmployeePosition([employee_id], [position], [years_within_company_id], [salary_id]) VALUES (10, 'Music Teacher', 3, 7);"
      ],
      "execution_count": null,
      "outputs": []
    },
    {
      "cell_type": "code",
      "metadata": {
        "id": "C-aXeyPIRRjP"
      },
      "source": [
        "%%sql\n",
        "\n",
        "SELECT *\n",
        "FROM EmployeePosition;"
      ],
      "execution_count": null,
      "outputs": []
    }
  ]
}